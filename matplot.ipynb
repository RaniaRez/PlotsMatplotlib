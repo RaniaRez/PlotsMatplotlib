{
  "cells": [
    {
      "cell_type": "code",
      "execution_count": 30,
      "id": "7b5e86f6",
      "metadata": {
        "id": "7b5e86f6"
      },
      "outputs": [],
      "source": [
        "import pandas as pd\n",
        "import numpy as np\n",
        "import matplotlib.pyplot as plt\n",
        "import seaborn as sns"
      ]
    },
    {
      "cell_type": "code",
      "execution_count": 31,
      "id": "375d70a8",
      "metadata": {
        "id": "375d70a8"
      },
      "outputs": [],
      "source": [
        "#Import 3_TwoNumOrdered.csv\n",
        "ordered_num = pd.read_csv('3_TwoNumOrdered.csv', header = 'infer', sep= ' ')\n"
      ]
    },
    {
      "cell_type": "code",
      "execution_count": 32,
      "id": "UwVrmIqDxSXD",
      "metadata": {
        "colab": {
          "base_uri": "https://localhost:8080/",
          "height": 424
        },
        "id": "UwVrmIqDxSXD",
        "outputId": "39ddb1d5-9499-407f-cfdf-06e878532c44"
      },
      "outputs": [
        {
          "data": {
            "text/html": [
              "<div>\n",
              "<style scoped>\n",
              "    .dataframe tbody tr th:only-of-type {\n",
              "        vertical-align: middle;\n",
              "    }\n",
              "\n",
              "    .dataframe tbody tr th {\n",
              "        vertical-align: top;\n",
              "    }\n",
              "\n",
              "    .dataframe thead th {\n",
              "        text-align: right;\n",
              "    }\n",
              "</style>\n",
              "<table border=\"1\" class=\"dataframe\">\n",
              "  <thead>\n",
              "    <tr style=\"text-align: right;\">\n",
              "      <th></th>\n",
              "      <th>date</th>\n",
              "      <th>value</th>\n",
              "    </tr>\n",
              "  </thead>\n",
              "  <tbody>\n",
              "    <tr>\n",
              "      <th>0</th>\n",
              "      <td>2013-04-28</td>\n",
              "      <td>135.98</td>\n",
              "    </tr>\n",
              "    <tr>\n",
              "      <th>1</th>\n",
              "      <td>2013-04-29</td>\n",
              "      <td>147.49</td>\n",
              "    </tr>\n",
              "    <tr>\n",
              "      <th>2</th>\n",
              "      <td>2013-04-30</td>\n",
              "      <td>146.93</td>\n",
              "    </tr>\n",
              "    <tr>\n",
              "      <th>3</th>\n",
              "      <td>2013-05-01</td>\n",
              "      <td>139.89</td>\n",
              "    </tr>\n",
              "    <tr>\n",
              "      <th>4</th>\n",
              "      <td>2013-05-02</td>\n",
              "      <td>125.60</td>\n",
              "    </tr>\n",
              "    <tr>\n",
              "      <th>...</th>\n",
              "      <td>...</td>\n",
              "      <td>...</td>\n",
              "    </tr>\n",
              "    <tr>\n",
              "      <th>1817</th>\n",
              "      <td>2018-04-19</td>\n",
              "      <td>8298.69</td>\n",
              "    </tr>\n",
              "    <tr>\n",
              "      <th>1818</th>\n",
              "      <td>2018-04-20</td>\n",
              "      <td>8880.23</td>\n",
              "    </tr>\n",
              "    <tr>\n",
              "      <th>1819</th>\n",
              "      <td>2018-04-21</td>\n",
              "      <td>8997.57</td>\n",
              "    </tr>\n",
              "    <tr>\n",
              "      <th>1820</th>\n",
              "      <td>2018-04-22</td>\n",
              "      <td>9001.64</td>\n",
              "    </tr>\n",
              "    <tr>\n",
              "      <th>1821</th>\n",
              "      <td>2018-04-23</td>\n",
              "      <td>8958.55</td>\n",
              "    </tr>\n",
              "  </tbody>\n",
              "</table>\n",
              "<p>1822 rows × 2 columns</p>\n",
              "</div>"
            ],
            "text/plain": [
              "            date    value\n",
              "0     2013-04-28   135.98\n",
              "1     2013-04-29   147.49\n",
              "2     2013-04-30   146.93\n",
              "3     2013-05-01   139.89\n",
              "4     2013-05-02   125.60\n",
              "...          ...      ...\n",
              "1817  2018-04-19  8298.69\n",
              "1818  2018-04-20  8880.23\n",
              "1819  2018-04-21  8997.57\n",
              "1820  2018-04-22  9001.64\n",
              "1821  2018-04-23  8958.55\n",
              "\n",
              "[1822 rows x 2 columns]"
            ]
          },
          "execution_count": 32,
          "metadata": {},
          "output_type": "execute_result"
        }
      ],
      "source": [
        "#Get to know your dataframe\n",
        "ordered_num\n"
      ]
    },
    {
      "cell_type": "code",
      "execution_count": 33,
      "id": "SGa-XuGH2gKG",
      "metadata": {
        "colab": {
          "base_uri": "https://localhost:8080/",
          "height": 300
        },
        "id": "SGa-XuGH2gKG",
        "outputId": "e5f3eb7f-c6fd-4157-859e-62461e19db6a"
      },
      "outputs": [
        {
          "data": {
            "text/html": [
              "<div>\n",
              "<style scoped>\n",
              "    .dataframe tbody tr th:only-of-type {\n",
              "        vertical-align: middle;\n",
              "    }\n",
              "\n",
              "    .dataframe tbody tr th {\n",
              "        vertical-align: top;\n",
              "    }\n",
              "\n",
              "    .dataframe thead th {\n",
              "        text-align: right;\n",
              "    }\n",
              "</style>\n",
              "<table border=\"1\" class=\"dataframe\">\n",
              "  <thead>\n",
              "    <tr style=\"text-align: right;\">\n",
              "      <th></th>\n",
              "      <th>value</th>\n",
              "    </tr>\n",
              "  </thead>\n",
              "  <tbody>\n",
              "    <tr>\n",
              "      <th>count</th>\n",
              "      <td>1822.000000</td>\n",
              "    </tr>\n",
              "    <tr>\n",
              "      <th>mean</th>\n",
              "      <td>1789.959259</td>\n",
              "    </tr>\n",
              "    <tr>\n",
              "      <th>std</th>\n",
              "      <td>3335.591274</td>\n",
              "    </tr>\n",
              "    <tr>\n",
              "      <th>min</th>\n",
              "      <td>74.560000</td>\n",
              "    </tr>\n",
              "    <tr>\n",
              "      <th>25%</th>\n",
              "      <td>285.732500</td>\n",
              "    </tr>\n",
              "    <tr>\n",
              "      <th>50%</th>\n",
              "      <td>532.685000</td>\n",
              "    </tr>\n",
              "    <tr>\n",
              "      <th>75%</th>\n",
              "      <td>1008.620000</td>\n",
              "    </tr>\n",
              "    <tr>\n",
              "      <th>max</th>\n",
              "      <td>20089.000000</td>\n",
              "    </tr>\n",
              "  </tbody>\n",
              "</table>\n",
              "</div>"
            ],
            "text/plain": [
              "              value\n",
              "count   1822.000000\n",
              "mean    1789.959259\n",
              "std     3335.591274\n",
              "min       74.560000\n",
              "25%      285.732500\n",
              "50%      532.685000\n",
              "75%     1008.620000\n",
              "max    20089.000000"
            ]
          },
          "execution_count": 33,
          "metadata": {},
          "output_type": "execute_result"
        }
      ],
      "source": [
        "ordered_num.describe()"
      ]
    },
    {
      "cell_type": "code",
      "execution_count": 34,
      "id": "7RcWDoLs2ivE",
      "metadata": {
        "colab": {
          "base_uri": "https://localhost:8080/"
        },
        "id": "7RcWDoLs2ivE",
        "outputId": "5daf9fbb-7c62-4a4b-fc30-9891e289861f"
      },
      "outputs": [
        {
          "name": "stdout",
          "output_type": "stream",
          "text": [
            "<class 'pandas.core.frame.DataFrame'>\n",
            "RangeIndex: 1822 entries, 0 to 1821\n",
            "Data columns (total 2 columns):\n",
            " #   Column  Non-Null Count  Dtype  \n",
            "---  ------  --------------  -----  \n",
            " 0   date    1822 non-null   object \n",
            " 1   value   1822 non-null   float64\n",
            "dtypes: float64(1), object(1)\n",
            "memory usage: 28.6+ KB\n"
          ]
        }
      ],
      "source": [
        "ordered_num.info()"
      ]
    },
    {
      "cell_type": "markdown",
      "id": "IdFWsxC5vgWB",
      "metadata": {
        "id": "IdFWsxC5vgWB"
      },
      "source": [
        "# Check the column\n"
      ]
    },
    {
      "cell_type": "code",
      "execution_count": 35,
      "id": "9ee55197",
      "metadata": {
        "colab": {
          "base_uri": "https://localhost:8080/"
        },
        "id": "9ee55197",
        "outputId": "10fa6b3e-f038-431f-d457-fac44de4fe0e",
        "scrolled": true
      },
      "outputs": [
        {
          "data": {
            "text/plain": [
              "Index(['date', 'value'], dtype='object')"
            ]
          },
          "execution_count": 35,
          "metadata": {},
          "output_type": "execute_result"
        }
      ],
      "source": [
        "ordered_num.columns"
      ]
    },
    {
      "cell_type": "markdown",
      "id": "upREyV3qvlvo",
      "metadata": {
        "id": "upREyV3qvlvo"
      },
      "source": [
        "# Check type of each column\n"
      ]
    },
    {
      "cell_type": "code",
      "execution_count": 36,
      "id": "441fb609",
      "metadata": {
        "colab": {
          "base_uri": "https://localhost:8080/"
        },
        "id": "441fb609",
        "outputId": "cc194bef-a93b-4d5f-f403-5741cb97a4eb",
        "scrolled": true
      },
      "outputs": [
        {
          "data": {
            "text/plain": [
              "date      object\n",
              "value    float64\n",
              "dtype: object"
            ]
          },
          "execution_count": 36,
          "metadata": {},
          "output_type": "execute_result"
        }
      ],
      "source": [
        "ordered_num.dtypes"
      ]
    },
    {
      "cell_type": "markdown",
      "id": "FhJMFKt8vsHL",
      "metadata": {
        "id": "FhJMFKt8vsHL"
      },
      "source": [
        "# Tranform the type of date to datetime pandas `(use pd.to_datetime)`\n"
      ]
    },
    {
      "cell_type": "code",
      "execution_count": 37,
      "id": "d940beb8",
      "metadata": {
        "colab": {
          "base_uri": "https://localhost:8080/",
          "height": 424
        },
        "id": "d940beb8",
        "outputId": "fa5bc937-d862-4d08-d6b0-2ec9ef0caa45"
      },
      "outputs": [
        {
          "data": {
            "text/html": [
              "<div>\n",
              "<style scoped>\n",
              "    .dataframe tbody tr th:only-of-type {\n",
              "        vertical-align: middle;\n",
              "    }\n",
              "\n",
              "    .dataframe tbody tr th {\n",
              "        vertical-align: top;\n",
              "    }\n",
              "\n",
              "    .dataframe thead th {\n",
              "        text-align: right;\n",
              "    }\n",
              "</style>\n",
              "<table border=\"1\" class=\"dataframe\">\n",
              "  <thead>\n",
              "    <tr style=\"text-align: right;\">\n",
              "      <th></th>\n",
              "      <th>date</th>\n",
              "      <th>value</th>\n",
              "    </tr>\n",
              "  </thead>\n",
              "  <tbody>\n",
              "    <tr>\n",
              "      <th>0</th>\n",
              "      <td>2013-04-28</td>\n",
              "      <td>135.98</td>\n",
              "    </tr>\n",
              "    <tr>\n",
              "      <th>1</th>\n",
              "      <td>2013-04-29</td>\n",
              "      <td>147.49</td>\n",
              "    </tr>\n",
              "    <tr>\n",
              "      <th>2</th>\n",
              "      <td>2013-04-30</td>\n",
              "      <td>146.93</td>\n",
              "    </tr>\n",
              "    <tr>\n",
              "      <th>3</th>\n",
              "      <td>2013-05-01</td>\n",
              "      <td>139.89</td>\n",
              "    </tr>\n",
              "    <tr>\n",
              "      <th>4</th>\n",
              "      <td>2013-05-02</td>\n",
              "      <td>125.60</td>\n",
              "    </tr>\n",
              "    <tr>\n",
              "      <th>...</th>\n",
              "      <td>...</td>\n",
              "      <td>...</td>\n",
              "    </tr>\n",
              "    <tr>\n",
              "      <th>1817</th>\n",
              "      <td>2018-04-19</td>\n",
              "      <td>8298.69</td>\n",
              "    </tr>\n",
              "    <tr>\n",
              "      <th>1818</th>\n",
              "      <td>2018-04-20</td>\n",
              "      <td>8880.23</td>\n",
              "    </tr>\n",
              "    <tr>\n",
              "      <th>1819</th>\n",
              "      <td>2018-04-21</td>\n",
              "      <td>8997.57</td>\n",
              "    </tr>\n",
              "    <tr>\n",
              "      <th>1820</th>\n",
              "      <td>2018-04-22</td>\n",
              "      <td>9001.64</td>\n",
              "    </tr>\n",
              "    <tr>\n",
              "      <th>1821</th>\n",
              "      <td>2018-04-23</td>\n",
              "      <td>8958.55</td>\n",
              "    </tr>\n",
              "  </tbody>\n",
              "</table>\n",
              "<p>1822 rows × 2 columns</p>\n",
              "</div>"
            ],
            "text/plain": [
              "           date    value\n",
              "0    2013-04-28   135.98\n",
              "1    2013-04-29   147.49\n",
              "2    2013-04-30   146.93\n",
              "3    2013-05-01   139.89\n",
              "4    2013-05-02   125.60\n",
              "...         ...      ...\n",
              "1817 2018-04-19  8298.69\n",
              "1818 2018-04-20  8880.23\n",
              "1819 2018-04-21  8997.57\n",
              "1820 2018-04-22  9001.64\n",
              "1821 2018-04-23  8958.55\n",
              "\n",
              "[1822 rows x 2 columns]"
            ]
          },
          "execution_count": 37,
          "metadata": {},
          "output_type": "execute_result"
        }
      ],
      "source": [
        "ordered_num['date'] = pd.to_datetime(ordered_num['date'].values)\n",
        "ordered_num"
      ]
    },
    {
      "cell_type": "markdown",
      "id": "RRgqQhl9v00x",
      "metadata": {
        "id": "RRgqQhl9v00x"
      },
      "source": [
        "# Check again type of each column"
      ]
    },
    {
      "cell_type": "code",
      "execution_count": 38,
      "id": "399cd4b1",
      "metadata": {
        "colab": {
          "base_uri": "https://localhost:8080/"
        },
        "id": "399cd4b1",
        "outputId": "caace6fb-4bfe-4280-84c3-8157cefc6b9d"
      },
      "outputs": [
        {
          "data": {
            "text/plain": [
              "date     datetime64[ns]\n",
              "value           float64\n",
              "dtype: object"
            ]
          },
          "execution_count": 38,
          "metadata": {},
          "output_type": "execute_result"
        }
      ],
      "source": [
        "ordered_num.dtypes"
      ]
    },
    {
      "cell_type": "markdown",
      "id": "81vmrvJwv6YP",
      "metadata": {
        "id": "81vmrvJwv6YP"
      },
      "source": [
        "# Create year/ month/day column\n",
        "`hint use data['date'].dt.year`"
      ]
    },
    {
      "cell_type": "code",
      "execution_count": 39,
      "id": "0fb6fee9",
      "metadata": {
        "colab": {
          "base_uri": "https://localhost:8080/"
        },
        "id": "0fb6fee9",
        "outputId": "4f22c475-4351-4e98-e022-12a4122a1a17"
      },
      "outputs": [
        {
          "data": {
            "text/plain": [
              "date     datetime64[ns]\n",
              "value           float64\n",
              "year              int64\n",
              "month             int64\n",
              "day               int64\n",
              "dtype: object"
            ]
          },
          "execution_count": 39,
          "metadata": {},
          "output_type": "execute_result"
        }
      ],
      "source": [
        "ordered_num['year'] = ordered_num['date'].dt.year\n",
        "ordered_num['month'] = ordered_num['date'].dt.month\n",
        "ordered_num['day'] = ordered_num['date'].dt.day\n",
        "ordered_num.dtypes"
      ]
    },
    {
      "cell_type": "code",
      "execution_count": 40,
      "id": "DkrV5P8Vxi4b",
      "metadata": {
        "colab": {
          "base_uri": "https://localhost:8080/"
        },
        "id": "DkrV5P8Vxi4b",
        "outputId": "c880d89c-c3e3-4f54-8a29-bd55a581f6f5"
      },
      "outputs": [
        {
          "data": {
            "text/plain": [
              "Index(['date', 'value', 'year', 'month', 'day'], dtype='object')"
            ]
          },
          "execution_count": 40,
          "metadata": {},
          "output_type": "execute_result"
        }
      ],
      "source": [
        "ordered_num.columns"
      ]
    },
    {
      "cell_type": "code",
      "execution_count": 41,
      "id": "NQfKwenHxi-3",
      "metadata": {
        "colab": {
          "base_uri": "https://localhost:8080/",
          "height": 424
        },
        "id": "NQfKwenHxi-3",
        "outputId": "9565a285-7fc8-42cb-9337-51ff1122e6bf"
      },
      "outputs": [
        {
          "data": {
            "text/html": [
              "<div>\n",
              "<style scoped>\n",
              "    .dataframe tbody tr th:only-of-type {\n",
              "        vertical-align: middle;\n",
              "    }\n",
              "\n",
              "    .dataframe tbody tr th {\n",
              "        vertical-align: top;\n",
              "    }\n",
              "\n",
              "    .dataframe thead th {\n",
              "        text-align: right;\n",
              "    }\n",
              "</style>\n",
              "<table border=\"1\" class=\"dataframe\">\n",
              "  <thead>\n",
              "    <tr style=\"text-align: right;\">\n",
              "      <th></th>\n",
              "      <th>date</th>\n",
              "      <th>value</th>\n",
              "      <th>year</th>\n",
              "      <th>month</th>\n",
              "      <th>day</th>\n",
              "    </tr>\n",
              "  </thead>\n",
              "  <tbody>\n",
              "    <tr>\n",
              "      <th>0</th>\n",
              "      <td>2013-04-28</td>\n",
              "      <td>135.98</td>\n",
              "      <td>2013</td>\n",
              "      <td>4</td>\n",
              "      <td>28</td>\n",
              "    </tr>\n",
              "    <tr>\n",
              "      <th>1</th>\n",
              "      <td>2013-04-29</td>\n",
              "      <td>147.49</td>\n",
              "      <td>2013</td>\n",
              "      <td>4</td>\n",
              "      <td>29</td>\n",
              "    </tr>\n",
              "    <tr>\n",
              "      <th>2</th>\n",
              "      <td>2013-04-30</td>\n",
              "      <td>146.93</td>\n",
              "      <td>2013</td>\n",
              "      <td>4</td>\n",
              "      <td>30</td>\n",
              "    </tr>\n",
              "    <tr>\n",
              "      <th>3</th>\n",
              "      <td>2013-05-01</td>\n",
              "      <td>139.89</td>\n",
              "      <td>2013</td>\n",
              "      <td>5</td>\n",
              "      <td>1</td>\n",
              "    </tr>\n",
              "    <tr>\n",
              "      <th>4</th>\n",
              "      <td>2013-05-02</td>\n",
              "      <td>125.60</td>\n",
              "      <td>2013</td>\n",
              "      <td>5</td>\n",
              "      <td>2</td>\n",
              "    </tr>\n",
              "    <tr>\n",
              "      <th>...</th>\n",
              "      <td>...</td>\n",
              "      <td>...</td>\n",
              "      <td>...</td>\n",
              "      <td>...</td>\n",
              "      <td>...</td>\n",
              "    </tr>\n",
              "    <tr>\n",
              "      <th>1817</th>\n",
              "      <td>2018-04-19</td>\n",
              "      <td>8298.69</td>\n",
              "      <td>2018</td>\n",
              "      <td>4</td>\n",
              "      <td>19</td>\n",
              "    </tr>\n",
              "    <tr>\n",
              "      <th>1818</th>\n",
              "      <td>2018-04-20</td>\n",
              "      <td>8880.23</td>\n",
              "      <td>2018</td>\n",
              "      <td>4</td>\n",
              "      <td>20</td>\n",
              "    </tr>\n",
              "    <tr>\n",
              "      <th>1819</th>\n",
              "      <td>2018-04-21</td>\n",
              "      <td>8997.57</td>\n",
              "      <td>2018</td>\n",
              "      <td>4</td>\n",
              "      <td>21</td>\n",
              "    </tr>\n",
              "    <tr>\n",
              "      <th>1820</th>\n",
              "      <td>2018-04-22</td>\n",
              "      <td>9001.64</td>\n",
              "      <td>2018</td>\n",
              "      <td>4</td>\n",
              "      <td>22</td>\n",
              "    </tr>\n",
              "    <tr>\n",
              "      <th>1821</th>\n",
              "      <td>2018-04-23</td>\n",
              "      <td>8958.55</td>\n",
              "      <td>2018</td>\n",
              "      <td>4</td>\n",
              "      <td>23</td>\n",
              "    </tr>\n",
              "  </tbody>\n",
              "</table>\n",
              "<p>1822 rows × 5 columns</p>\n",
              "</div>"
            ],
            "text/plain": [
              "           date    value  year  month  day\n",
              "0    2013-04-28   135.98  2013      4   28\n",
              "1    2013-04-29   147.49  2013      4   29\n",
              "2    2013-04-30   146.93  2013      4   30\n",
              "3    2013-05-01   139.89  2013      5    1\n",
              "4    2013-05-02   125.60  2013      5    2\n",
              "...         ...      ...   ...    ...  ...\n",
              "1817 2018-04-19  8298.69  2018      4   19\n",
              "1818 2018-04-20  8880.23  2018      4   20\n",
              "1819 2018-04-21  8997.57  2018      4   21\n",
              "1820 2018-04-22  9001.64  2018      4   22\n",
              "1821 2018-04-23  8958.55  2018      4   23\n",
              "\n",
              "[1822 rows x 5 columns]"
            ]
          },
          "execution_count": 41,
          "metadata": {},
          "output_type": "execute_result"
        }
      ],
      "source": [
        "ordered_num"
      ]
    },
    {
      "cell_type": "markdown",
      "id": "5xI3Db7qwDO5",
      "metadata": {
        "id": "5xI3Db7qwDO5"
      },
      "source": [
        "# Check again columns type"
      ]
    },
    {
      "cell_type": "code",
      "execution_count": 42,
      "id": "3ef63c04",
      "metadata": {
        "colab": {
          "base_uri": "https://localhost:8080/"
        },
        "id": "3ef63c04",
        "outputId": "c2a6f08b-3701-491e-f5ed-f90de5bdc79f"
      },
      "outputs": [
        {
          "data": {
            "text/plain": [
              "date     datetime64[ns]\n",
              "value           float64\n",
              "year              int64\n",
              "month             int64\n",
              "day               int64\n",
              "dtype: object"
            ]
          },
          "execution_count": 42,
          "metadata": {},
          "output_type": "execute_result"
        }
      ],
      "source": [
        "ordered_num.dtypes"
      ]
    },
    {
      "cell_type": "markdown",
      "id": "as95McA4wJSu",
      "metadata": {
        "id": "as95McA4wJSu"
      },
      "source": [
        "# Line plot data['date']/ value"
      ]
    },
    {
      "cell_type": "code",
      "execution_count": 43,
      "id": "5cc27a93",
      "metadata": {
        "colab": {
          "base_uri": "https://localhost:8080/",
          "height": 269
        },
        "id": "5cc27a93",
        "outputId": "e917b601-1bd1-4da4-eed5-cf119b7a74b2"
      },
      "outputs": [
        {
          "data": {
            "image/png": "[encoded data removed]",
            "text/plain": [
              "<Figure size 842.4x595.44 with 1 Axes>"
            ]
          },
          "metadata": {},
          "output_type": "display_data"
        }
      ],
      "source": [
        "import datetime\n",
        "# 1- create a figure using plt.subplots, fix figsize=(8,6)\n",
        "fig, axe = plt.subplots()"
      ]
    },
    {
      "cell_type": "code",
      "execution_count": 44,
      "id": "a172b27f",
      "metadata": {
        "colab": {
          "base_uri": "https://localhost:8080/",
          "height": 294
        },
        "id": "a172b27f",
        "outputId": "a0ff85b0-32a2-457a-a23d-af2c8754a9ec"
      },
      "outputs": [
        {
          "data": {
            "image/png": "[encoded data removed]",
            "text/plain": [
              "<Figure size 842.4x595.44 with 1 Axes>"
            ]
          },
          "metadata": {},
          "output_type": "display_data"
        }
      ],
      "source": [
        "# 2-plot\n",
        "fig, axe = plt.subplots()\n",
        "fig.suptitle(\"date\")\n",
        "axe.plot(ordered_num['date'], ordered_num['value'])\n",
        "plt.show()"
      ]
    },
    {
      "cell_type": "code",
      "execution_count": 45,
      "id": "8b871aa0",
      "metadata": {
        "colab": {
          "base_uri": "https://localhost:8080/",
          "height": 294
        },
        "id": "8b871aa0",
        "outputId": "ec3a67c3-0057-4a76-b75b-46cc62e7ce08"
      },
      "outputs": [
        {
          "data": {
            "image/png": "[encoded data removed]",
            "text/plain": [
              "<Figure size 842.4x595.44 with 1 Axes>"
            ]
          },
          "metadata": {},
          "output_type": "display_data"
        }
      ],
      "source": [
        "# 3- set the x limits of the current axes between  (2015, 1, 26) and  (2017, 2, 1)\n",
        "fig, axe = plt.subplots()\n",
        "fig.suptitle(\"date\")\n",
        "plt.xlim(datetime.datetime(2015, 1, 26), datetime.datetime(2017, 2, 1))\n",
        "axe.plot(ordered_num['date'], ordered_num['value'])\n",
        "plt.show()"
      ]
    },
    {
      "cell_type": "markdown",
      "id": "793d5c94",
      "metadata": {
        "id": "793d5c94"
      },
      "source": [
        "# Understand subplots"
      ]
    },
    {
      "cell_type": "markdown",
      "id": "E8wzDLhBwWq_",
      "metadata": {
        "id": "E8wzDLhBwWq_"
      },
      "source": [
        "## Create a 2×3 grid of subplots"
      ]
    },
    {
      "cell_type": "code",
      "execution_count": 46,
      "id": "4a7d94ec",
      "metadata": {
        "colab": {
          "base_uri": "https://localhost:8080/",
          "height": 269
        },
        "id": "4a7d94ec",
        "outputId": "540b4879-a234-4bf8-f944-4d456a31ddac"
      },
      "outputs": [
        {
          "data": {
            "image/png": "[encoded data removed]",
            "text/plain": [
              "<Figure size 842.4x595.44 with 6 Axes>"
            ]
          },
          "metadata": {},
          "output_type": "display_data"
        }
      ],
      "source": [
        "fig,ax= plt.subplots(2,3,sharex='col',sharey='row')"
      ]
    },
    {
      "cell_type": "code",
      "execution_count": 47,
      "id": "72e27f9a",
      "metadata": {
        "colab": {
          "base_uri": "https://localhost:8080/",
          "height": 269
        },
        "id": "72e27f9a",
        "outputId": "af7be49b-5675-414a-8f7a-65281db66e12"
      },
      "outputs": [
        {
          "data": {
            "image/png": "[encoded data removed]",
            "text/plain": [
              "<Figure size 842.4x595.44 with 6 Axes>"
            ]
          },
          "execution_count": 47,
          "metadata": {},
          "output_type": "execute_result"
        }
      ],
      "source": [
        "for i in range(2):\n",
        "    for j in range(3):\n",
        "        ax[i,j].text(0.5,0.5,str((i,j)),fontsize=18,ha='center')\n",
        "        \n",
        "fig"
      ]
    },
    {
      "cell_type": "markdown",
      "id": "83A1AtSzwgVs",
      "metadata": {
        "id": "83A1AtSzwgVs"
      },
      "source": [
        "# Another One"
      ]
    },
    {
      "cell_type": "code",
      "execution_count": 48,
      "id": "15c73132",
      "metadata": {
        "id": "15c73132"
      },
      "outputs": [],
      "source": [
        "#Import the second dataset\n",
        "data = pd.read_csv('multivariate.csv', header = 'infer', sep= ';')"
      ]
    },
    {
      "cell_type": "code",
      "execution_count": 49,
      "id": "216f6e3d",
      "metadata": {
        "colab": {
          "base_uri": "https://localhost:8080/",
          "height": 300
        },
        "id": "216f6e3d",
        "outputId": "0c0ea27a-5c92-4dcd-f4a8-60c739fad8c4"
      },
      "outputs": [
        {
          "data": {
            "text/html": [
              "<div>\n",
              "<style scoped>\n",
              "    .dataframe tbody tr th:only-of-type {\n",
              "        vertical-align: middle;\n",
              "    }\n",
              "\n",
              "    .dataframe tbody tr th {\n",
              "        vertical-align: top;\n",
              "    }\n",
              "\n",
              "    .dataframe thead th {\n",
              "        text-align: right;\n",
              "    }\n",
              "</style>\n",
              "<table border=\"1\" class=\"dataframe\">\n",
              "  <thead>\n",
              "    <tr style=\"text-align: right;\">\n",
              "      <th></th>\n",
              "      <th>Pop</th>\n",
              "      <th>Birth rate</th>\n",
              "      <th>Mortality rate</th>\n",
              "      <th>Life expectancy</th>\n",
              "      <th>Infant mortality</th>\n",
              "      <th>Children per woman</th>\n",
              "      <th>Growth rate</th>\n",
              "      <th>Population aged 65+</th>\n",
              "    </tr>\n",
              "  </thead>\n",
              "  <tbody>\n",
              "    <tr>\n",
              "      <th>count</th>\n",
              "      <td>2.010000e+02</td>\n",
              "      <td>201.000000</td>\n",
              "      <td>201.000000</td>\n",
              "      <td>201.000000</td>\n",
              "      <td>201.000000</td>\n",
              "      <td>201.000000</td>\n",
              "      <td>201.000000</td>\n",
              "      <td>201.000000</td>\n",
              "    </tr>\n",
              "    <tr>\n",
              "      <th>mean</th>\n",
              "      <td>3.641124e+04</td>\n",
              "      <td>20.132100</td>\n",
              "      <td>7.874493</td>\n",
              "      <td>72.385338</td>\n",
              "      <td>22.534095</td>\n",
              "      <td>2.669866</td>\n",
              "      <td>12.029254</td>\n",
              "      <td>2370.184080</td>\n",
              "    </tr>\n",
              "    <tr>\n",
              "      <th>std</th>\n",
              "      <td>1.420513e+05</td>\n",
              "      <td>9.778221</td>\n",
              "      <td>2.829276</td>\n",
              "      <td>8.165990</td>\n",
              "      <td>21.308897</td>\n",
              "      <td>1.265439</td>\n",
              "      <td>10.125429</td>\n",
              "      <td>7563.331497</td>\n",
              "    </tr>\n",
              "    <tr>\n",
              "      <th>min</th>\n",
              "      <td>9.500000e+01</td>\n",
              "      <td>7.500000</td>\n",
              "      <td>1.600000</td>\n",
              "      <td>48.900000</td>\n",
              "      <td>1.300000</td>\n",
              "      <td>1.030000</td>\n",
              "      <td>-7.600000</td>\n",
              "      <td>5.000000</td>\n",
              "    </tr>\n",
              "    <tr>\n",
              "      <th>25%</th>\n",
              "      <td>1.198000e+03</td>\n",
              "      <td>11.900000</td>\n",
              "      <td>6.000000</td>\n",
              "      <td>66.800000</td>\n",
              "      <td>5.500000</td>\n",
              "      <td>1.750000</td>\n",
              "      <td>3.700000</td>\n",
              "      <td>93.000000</td>\n",
              "    </tr>\n",
              "    <tr>\n",
              "      <th>50%</th>\n",
              "      <td>6.213000e+03</td>\n",
              "      <td>17.700000</td>\n",
              "      <td>7.500000</td>\n",
              "      <td>74.400000</td>\n",
              "      <td>14.500000</td>\n",
              "      <td>2.170000</td>\n",
              "      <td>11.100000</td>\n",
              "      <td>464.000000</td>\n",
              "    </tr>\n",
              "    <tr>\n",
              "      <th>75%</th>\n",
              "      <td>2.244500e+04</td>\n",
              "      <td>27.500000</td>\n",
              "      <td>9.400000</td>\n",
              "      <td>78.300000</td>\n",
              "      <td>36.200000</td>\n",
              "      <td>3.560000</td>\n",
              "      <td>20.300000</td>\n",
              "      <td>1493.000000</td>\n",
              "    </tr>\n",
              "    <tr>\n",
              "      <th>max</th>\n",
              "      <td>1.393686e+06</td>\n",
              "      <td>48.400000</td>\n",
              "      <td>16.187000</td>\n",
              "      <td>84.600000</td>\n",
              "      <td>86.800000</td>\n",
              "      <td>7.430000</td>\n",
              "      <td>40.100000</td>\n",
              "      <td>83498.000000</td>\n",
              "    </tr>\n",
              "  </tbody>\n",
              "</table>\n",
              "</div>"
            ],
            "text/plain": [
              "                Pop  Birth rate  Mortality rate  Life expectancy  \\\n",
              "count  2.010000e+02  201.000000      201.000000       201.000000   \n",
              "mean   3.641124e+04   20.132100        7.874493        72.385338   \n",
              "std    1.420513e+05    9.778221        2.829276         8.165990   \n",
              "min    9.500000e+01    7.500000        1.600000        48.900000   \n",
              "25%    1.198000e+03   11.900000        6.000000        66.800000   \n",
              "50%    6.213000e+03   17.700000        7.500000        74.400000   \n",
              "75%    2.244500e+04   27.500000        9.400000        78.300000   \n",
              "max    1.393686e+06   48.400000       16.187000        84.600000   \n",
              "\n",
              "       Infant mortality  Children per woman  Growth rate  Population aged 65+  \n",
              "count        201.000000          201.000000   201.000000           201.000000  \n",
              "mean          22.534095            2.669866    12.029254          2370.184080  \n",
              "std           21.308897            1.265439    10.125429          7563.331497  \n",
              "min            1.300000            1.030000    -7.600000             5.000000  \n",
              "25%            5.500000            1.750000     3.700000            93.000000  \n",
              "50%           14.500000            2.170000    11.100000           464.000000  \n",
              "75%           36.200000            3.560000    20.300000          1493.000000  \n",
              "max           86.800000            7.430000    40.100000         83498.000000  "
            ]
          },
          "execution_count": 49,
          "metadata": {},
          "output_type": "execute_result"
        }
      ],
      "source": [
        "#Get to know it\n",
        "data.describe()"
      ]
    },
    {
      "cell_type": "code",
      "execution_count": 50,
      "id": "2dh1ZyNo-gi7",
      "metadata": {
        "colab": {
          "base_uri": "https://localhost:8080/"
        },
        "id": "2dh1ZyNo-gi7",
        "outputId": "98fc0405-aed9-45b5-aa6d-570cd3af22d0"
      },
      "outputs": [
        {
          "name": "stdout",
          "output_type": "stream",
          "text": [
            "<class 'pandas.core.frame.DataFrame'>\n",
            "RangeIndex: 201 entries, 0 to 200\n",
            "Data columns (total 11 columns):\n",
            " #   Column               Non-Null Count  Dtype  \n",
            "---  ------               --------------  -----  \n",
            " 0   Country              201 non-null    object \n",
            " 1   Pop                  201 non-null    int64  \n",
            " 2   Birth rate           201 non-null    float64\n",
            " 3   Mortality rate       201 non-null    float64\n",
            " 4   Life expectancy      201 non-null    float64\n",
            " 5   Infant mortality     201 non-null    float64\n",
            " 6   Children per woman   201 non-null    float64\n",
            " 7   Growth rate          201 non-null    float64\n",
            " 8   Population aged 65+  201 non-null    int64  \n",
            " 9   Group                201 non-null    object \n",
            " 10  Continent            201 non-null    object \n",
            "dtypes: float64(6), int64(2), object(3)\n",
            "memory usage: 17.4+ KB\n"
          ]
        }
      ],
      "source": [
        "data.info()"
      ]
    },
    {
      "cell_type": "code",
      "execution_count": 51,
      "id": "XK39T04u-iSR",
      "metadata": {
        "colab": {
          "base_uri": "https://localhost:8080/"
        },
        "id": "XK39T04u-iSR",
        "outputId": "42090470-0180-4071-e367-7cb53f3900e9"
      },
      "outputs": [
        {
          "data": {
            "text/plain": [
              "Country                 object\n",
              "Pop                      int64\n",
              "Birth rate             float64\n",
              "Mortality rate         float64\n",
              "Life expectancy        float64\n",
              "Infant mortality       float64\n",
              "Children per woman     float64\n",
              "Growth rate            float64\n",
              "Population aged 65+      int64\n",
              "Group                   object\n",
              "Continent               object\n",
              "dtype: object"
            ]
          },
          "execution_count": 51,
          "metadata": {},
          "output_type": "execute_result"
        }
      ],
      "source": [
        "data.dtypes"
      ]
    },
    {
      "cell_type": "code",
      "execution_count": 52,
      "id": "mTRe8sp7-heQ",
      "metadata": {
        "colab": {
          "base_uri": "https://localhost:8080/",
          "height": 520
        },
        "id": "mTRe8sp7-heQ",
        "outputId": "65148a0e-4d56-4d19-9cf3-10a353e87ee6"
      },
      "outputs": [
        {
          "data": {
            "text/html": [
              "<div>\n",
              "<style scoped>\n",
              "    .dataframe tbody tr th:only-of-type {\n",
              "        vertical-align: middle;\n",
              "    }\n",
              "\n",
              "    .dataframe tbody tr th {\n",
              "        vertical-align: top;\n",
              "    }\n",
              "\n",
              "    .dataframe thead th {\n",
              "        text-align: right;\n",
              "    }\n",
              "</style>\n",
              "<table border=\"1\" class=\"dataframe\">\n",
              "  <thead>\n",
              "    <tr style=\"text-align: right;\">\n",
              "      <th></th>\n",
              "      <th>Country</th>\n",
              "      <th>Pop</th>\n",
              "      <th>Birth rate</th>\n",
              "      <th>Mortality rate</th>\n",
              "      <th>Life expectancy</th>\n",
              "      <th>Infant mortality</th>\n",
              "      <th>Children per woman</th>\n",
              "      <th>Growth rate</th>\n",
              "      <th>Population aged 65+</th>\n",
              "      <th>Group</th>\n",
              "      <th>Continent</th>\n",
              "    </tr>\n",
              "  </thead>\n",
              "  <tbody>\n",
              "    <tr>\n",
              "      <th>0</th>\n",
              "      <td>Channel Islands</td>\n",
              "      <td>166</td>\n",
              "      <td>9.280</td>\n",
              "      <td>9.140</td>\n",
              "      <td>81.269</td>\n",
              "      <td>7.276</td>\n",
              "      <td>1.492</td>\n",
              "      <td>4.56</td>\n",
              "      <td>30</td>\n",
              "      <td>North</td>\n",
              "      <td>Europe</td>\n",
              "    </tr>\n",
              "    <tr>\n",
              "      <th>1</th>\n",
              "      <td>Denmark</td>\n",
              "      <td>5733</td>\n",
              "      <td>10.707</td>\n",
              "      <td>9.620</td>\n",
              "      <td>80.839</td>\n",
              "      <td>3.495</td>\n",
              "      <td>1.758</td>\n",
              "      <td>3.67</td>\n",
              "      <td>1132</td>\n",
              "      <td>North</td>\n",
              "      <td>Europe</td>\n",
              "    </tr>\n",
              "    <tr>\n",
              "      <th>2</th>\n",
              "      <td>Estonia</td>\n",
              "      <td>1302</td>\n",
              "      <td>10.698</td>\n",
              "      <td>12.657</td>\n",
              "      <td>77.342</td>\n",
              "      <td>2.843</td>\n",
              "      <td>1.657</td>\n",
              "      <td>-2.63</td>\n",
              "      <td>256</td>\n",
              "      <td>North</td>\n",
              "      <td>Europe</td>\n",
              "    </tr>\n",
              "    <tr>\n",
              "      <th>3</th>\n",
              "      <td>Finland</td>\n",
              "      <td>5556</td>\n",
              "      <td>10.672</td>\n",
              "      <td>9.865</td>\n",
              "      <td>81.576</td>\n",
              "      <td>1.839</td>\n",
              "      <td>1.764</td>\n",
              "      <td>2.65</td>\n",
              "      <td>1212</td>\n",
              "      <td>North</td>\n",
              "      <td>Europe</td>\n",
              "    </tr>\n",
              "    <tr>\n",
              "      <th>4</th>\n",
              "      <td>Iceland</td>\n",
              "      <td>337</td>\n",
              "      <td>12.836</td>\n",
              "      <td>6.467</td>\n",
              "      <td>83.220</td>\n",
              "      <td>1.752</td>\n",
              "      <td>1.893</td>\n",
              "      <td>7.83</td>\n",
              "      <td>50</td>\n",
              "      <td>North</td>\n",
              "      <td>Europe</td>\n",
              "    </tr>\n",
              "    <tr>\n",
              "      <th>...</th>\n",
              "      <td>...</td>\n",
              "      <td>...</td>\n",
              "      <td>...</td>\n",
              "      <td>...</td>\n",
              "      <td>...</td>\n",
              "      <td>...</td>\n",
              "      <td>...</td>\n",
              "      <td>...</td>\n",
              "      <td>...</td>\n",
              "      <td>...</td>\n",
              "      <td>...</td>\n",
              "    </tr>\n",
              "    <tr>\n",
              "      <th>196</th>\n",
              "      <td>Saudi Arabia</td>\n",
              "      <td>333</td>\n",
              "      <td>18.300</td>\n",
              "      <td>3.500</td>\n",
              "      <td>74.900</td>\n",
              "      <td>13.100</td>\n",
              "      <td>2.570</td>\n",
              "      <td>16.50</td>\n",
              "      <td>1099</td>\n",
              "      <td>West</td>\n",
              "      <td>Asia</td>\n",
              "    </tr>\n",
              "    <tr>\n",
              "      <th>197</th>\n",
              "      <td>Syrian Arab Republic</td>\n",
              "      <td>19482</td>\n",
              "      <td>21.200</td>\n",
              "      <td>5.500</td>\n",
              "      <td>70.600</td>\n",
              "      <td>14.800</td>\n",
              "      <td>2.750</td>\n",
              "      <td>33.10</td>\n",
              "      <td>848</td>\n",
              "      <td>West</td>\n",
              "      <td>Asia</td>\n",
              "    </tr>\n",
              "    <tr>\n",
              "      <th>198</th>\n",
              "      <td>Turkey</td>\n",
              "      <td>81086</td>\n",
              "      <td>15.600</td>\n",
              "      <td>5.800</td>\n",
              "      <td>76.300</td>\n",
              "      <td>9.700</td>\n",
              "      <td>2.000</td>\n",
              "      <td>7.80</td>\n",
              "      <td>6672</td>\n",
              "      <td>West</td>\n",
              "      <td>Asia</td>\n",
              "    </tr>\n",
              "    <tr>\n",
              "      <th>199</th>\n",
              "      <td>United Arab Emirates</td>\n",
              "      <td>9543</td>\n",
              "      <td>9.900</td>\n",
              "      <td>1.800</td>\n",
              "      <td>77.600</td>\n",
              "      <td>5.200</td>\n",
              "      <td>1.720</td>\n",
              "      <td>15.20</td>\n",
              "      <td>144</td>\n",
              "      <td>West</td>\n",
              "      <td>Asia</td>\n",
              "    </tr>\n",
              "    <tr>\n",
              "      <th>200</th>\n",
              "      <td>Yemen</td>\n",
              "      <td>28758</td>\n",
              "      <td>30.300</td>\n",
              "      <td>6.600</td>\n",
              "      <td>64.600</td>\n",
              "      <td>48.100</td>\n",
              "      <td>3.730</td>\n",
              "      <td>22.20</td>\n",
              "      <td>870</td>\n",
              "      <td>West</td>\n",
              "      <td>Asia</td>\n",
              "    </tr>\n",
              "  </tbody>\n",
              "</table>\n",
              "<p>201 rows × 11 columns</p>\n",
              "</div>"
            ],
            "text/plain": [
              "                  Country    Pop  Birth rate  Mortality rate  Life expectancy  \\\n",
              "0         Channel Islands    166       9.280           9.140           81.269   \n",
              "1                 Denmark   5733      10.707           9.620           80.839   \n",
              "2                 Estonia   1302      10.698          12.657           77.342   \n",
              "3                 Finland   5556      10.672           9.865           81.576   \n",
              "4                 Iceland    337      12.836           6.467           83.220   \n",
              "..                    ...    ...         ...             ...              ...   \n",
              "196          Saudi Arabia    333      18.300           3.500           74.900   \n",
              "197  Syrian Arab Republic  19482      21.200           5.500           70.600   \n",
              "198                Turkey  81086      15.600           5.800           76.300   \n",
              "199  United Arab Emirates   9543       9.900           1.800           77.600   \n",
              "200                 Yemen  28758      30.300           6.600           64.600   \n",
              "\n",
              "     Infant mortality  Children per woman  Growth rate  Population aged 65+  \\\n",
              "0               7.276               1.492         4.56                   30   \n",
              "1               3.495               1.758         3.67                 1132   \n",
              "2               2.843               1.657        -2.63                  256   \n",
              "3               1.839               1.764         2.65                 1212   \n",
              "4               1.752               1.893         7.83                   50   \n",
              "..                ...                 ...          ...                  ...   \n",
              "196            13.100               2.570        16.50                 1099   \n",
              "197            14.800               2.750        33.10                  848   \n",
              "198             9.700               2.000         7.80                 6672   \n",
              "199             5.200               1.720        15.20                  144   \n",
              "200            48.100               3.730        22.20                  870   \n",
              "\n",
              "     Group Continent  \n",
              "0    North    Europe  \n",
              "1    North    Europe  \n",
              "2    North    Europe  \n",
              "3    North    Europe  \n",
              "4    North    Europe  \n",
              "..     ...       ...  \n",
              "196   West      Asia  \n",
              "197   West      Asia  \n",
              "198   West      Asia  \n",
              "199   West      Asia  \n",
              "200   West      Asia  \n",
              "\n",
              "[201 rows x 11 columns]"
            ]
          },
          "execution_count": 52,
          "metadata": {},
          "output_type": "execute_result"
        }
      ],
      "source": [
        "data"
      ]
    },
    {
      "cell_type": "markdown",
      "id": "NTRGo-Eiwl7D",
      "metadata": {
        "id": "NTRGo-Eiwl7D"
      },
      "source": [
        "## Plot the distribution of Birth rate and Mortality rate in the same plot "
      ]
    },
    {
      "cell_type": "code",
      "execution_count": 53,
      "id": "bc3ed640",
      "metadata": {
        "colab": {
          "base_uri": "https://localhost:8080/",
          "height": 311
        },
        "id": "bc3ed640",
        "outputId": "270b3abc-41f9-44ec-d745-977e958335bb"
      },
      "outputs": [
        {
          "data": {
            "text/plain": [
              "[<matplotlib.lines.Line2D at 0x207f0ceaad0>]"
            ]
          },
          "execution_count": 53,
          "metadata": {},
          "output_type": "execute_result"
        },
        {
          "data": {
            "image/png": "[encoded data removed]",
            "text/plain": [
              "<Figure size 842.4x595.44 with 1 Axes>"
            ]
          },
          "metadata": {},
          "output_type": "display_data"
        }
      ],
      "source": [
        "fig, axs = plt.subplots()\n",
        "fig.suptitle(\"birth rate and mortality rate\")\n",
        "axs.set_title(\"birth rate\")\n",
        "axs.plot(data['Birth rate'])\n",
        "axs.plot(data['Mortality rate'],c = 'red')"
      ]
    },
    {
      "cell_type": "markdown",
      "id": "Kc4IjOCZwoZ4",
      "metadata": {
        "id": "Kc4IjOCZwoZ4"
      },
      "source": [
        "## Print the correlation matrix "
      ]
    },
    {
      "cell_type": "code",
      "execution_count": 54,
      "id": "9155790e",
      "metadata": {
        "colab": {
          "base_uri": "https://localhost:8080/",
          "height": 300
        },
        "id": "9155790e",
        "outputId": "75209f4b-b7d9-4587-a44b-f882b8b27f5c"
      },
      "outputs": [
        {
          "data": {
            "text/html": [
              "<div>\n",
              "<style scoped>\n",
              "    .dataframe tbody tr th:only-of-type {\n",
              "        vertical-align: middle;\n",
              "    }\n",
              "\n",
              "    .dataframe tbody tr th {\n",
              "        vertical-align: top;\n",
              "    }\n",
              "\n",
              "    .dataframe thead th {\n",
              "        text-align: right;\n",
              "    }\n",
              "</style>\n",
              "<table border=\"1\" class=\"dataframe\">\n",
              "  <thead>\n",
              "    <tr style=\"text-align: right;\">\n",
              "      <th></th>\n",
              "      <th>Pop</th>\n",
              "      <th>Birth rate</th>\n",
              "      <th>Mortality rate</th>\n",
              "      <th>Life expectancy</th>\n",
              "      <th>Infant mortality</th>\n",
              "      <th>Children per woman</th>\n",
              "      <th>Growth rate</th>\n",
              "      <th>Population aged 65+</th>\n",
              "    </tr>\n",
              "  </thead>\n",
              "  <tbody>\n",
              "    <tr>\n",
              "      <th>Pop</th>\n",
              "      <td>1.000000</td>\n",
              "      <td>-0.042879</td>\n",
              "      <td>-0.005079</td>\n",
              "      <td>-0.006034</td>\n",
              "      <td>0.013773</td>\n",
              "      <td>-0.046170</td>\n",
              "      <td>-0.032978</td>\n",
              "      <td>0.751681</td>\n",
              "    </tr>\n",
              "    <tr>\n",
              "      <th>Birth rate</th>\n",
              "      <td>-0.042879</td>\n",
              "      <td>1.000000</td>\n",
              "      <td>-0.043080</td>\n",
              "      <td>-0.839977</td>\n",
              "      <td>0.877932</td>\n",
              "      <td>0.977673</td>\n",
              "      <td>0.899490</td>\n",
              "      <td>-0.133978</td>\n",
              "    </tr>\n",
              "    <tr>\n",
              "      <th>Mortality rate</th>\n",
              "      <td>-0.005079</td>\n",
              "      <td>-0.043080</td>\n",
              "      <td>1.000000</td>\n",
              "      <td>-0.294270</td>\n",
              "      <td>0.196863</td>\n",
              "      <td>0.008703</td>\n",
              "      <td>-0.313049</td>\n",
              "      <td>0.049057</td>\n",
              "    </tr>\n",
              "    <tr>\n",
              "      <th>Life expectancy</th>\n",
              "      <td>-0.006034</td>\n",
              "      <td>-0.839977</td>\n",
              "      <td>-0.294270</td>\n",
              "      <td>1.000000</td>\n",
              "      <td>-0.925539</td>\n",
              "      <td>-0.784815</td>\n",
              "      <td>-0.656512</td>\n",
              "      <td>0.079067</td>\n",
              "    </tr>\n",
              "    <tr>\n",
              "      <th>Infant mortality</th>\n",
              "      <td>0.013773</td>\n",
              "      <td>0.877932</td>\n",
              "      <td>0.196863</td>\n",
              "      <td>-0.925539</td>\n",
              "      <td>1.000000</td>\n",
              "      <td>0.843144</td>\n",
              "      <td>0.730304</td>\n",
              "      <td>-0.072616</td>\n",
              "    </tr>\n",
              "    <tr>\n",
              "      <th>Children per woman</th>\n",
              "      <td>-0.046170</td>\n",
              "      <td>0.977673</td>\n",
              "      <td>0.008703</td>\n",
              "      <td>-0.784815</td>\n",
              "      <td>0.843144</td>\n",
              "      <td>1.000000</td>\n",
              "      <td>0.872341</td>\n",
              "      <td>-0.131308</td>\n",
              "    </tr>\n",
              "    <tr>\n",
              "      <th>Growth rate</th>\n",
              "      <td>-0.032978</td>\n",
              "      <td>0.899490</td>\n",
              "      <td>-0.313049</td>\n",
              "      <td>-0.656512</td>\n",
              "      <td>0.730304</td>\n",
              "      <td>0.872341</td>\n",
              "      <td>1.000000</td>\n",
              "      <td>-0.117647</td>\n",
              "    </tr>\n",
              "    <tr>\n",
              "      <th>Population aged 65+</th>\n",
              "      <td>0.751681</td>\n",
              "      <td>-0.133978</td>\n",
              "      <td>0.049057</td>\n",
              "      <td>0.079067</td>\n",
              "      <td>-0.072616</td>\n",
              "      <td>-0.131308</td>\n",
              "      <td>-0.117647</td>\n",
              "      <td>1.000000</td>\n",
              "    </tr>\n",
              "  </tbody>\n",
              "</table>\n",
              "</div>"
            ],
            "text/plain": [
              "                          Pop  Birth rate  Mortality rate  Life expectancy  \\\n",
              "Pop                  1.000000   -0.042879       -0.005079        -0.006034   \n",
              "Birth rate          -0.042879    1.000000       -0.043080        -0.839977   \n",
              "Mortality rate      -0.005079   -0.043080        1.000000        -0.294270   \n",
              "Life expectancy     -0.006034   -0.839977       -0.294270         1.000000   \n",
              "Infant mortality     0.013773    0.877932        0.196863        -0.925539   \n",
              "Children per woman  -0.046170    0.977673        0.008703        -0.784815   \n",
              "Growth rate         -0.032978    0.899490       -0.313049        -0.656512   \n",
              "Population aged 65+  0.751681   -0.133978        0.049057         0.079067   \n",
              "\n",
              "                     Infant mortality  Children per woman  Growth rate  \\\n",
              "Pop                          0.013773           -0.046170    -0.032978   \n",
              "Birth rate                   0.877932            0.977673     0.899490   \n",
              "Mortality rate               0.196863            0.008703    -0.313049   \n",
              "Life expectancy             -0.925539           -0.784815    -0.656512   \n",
              "Infant mortality             1.000000            0.843144     0.730304   \n",
              "Children per woman           0.843144            1.000000     0.872341   \n",
              "Growth rate                  0.730304            0.872341     1.000000   \n",
              "Population aged 65+         -0.072616           -0.131308    -0.117647   \n",
              "\n",
              "                     Population aged 65+  \n",
              "Pop                             0.751681  \n",
              "Birth rate                     -0.133978  \n",
              "Mortality rate                  0.049057  \n",
              "Life expectancy                 0.079067  \n",
              "Infant mortality               -0.072616  \n",
              "Children per woman             -0.131308  \n",
              "Growth rate                    -0.117647  \n",
              "Population aged 65+             1.000000  "
            ]
          },
          "execution_count": 54,
          "metadata": {},
          "output_type": "execute_result"
        }
      ],
      "source": [
        "data.corr()"
      ]
    },
    {
      "cell_type": "markdown",
      "id": "Jy3CMgihwrNP",
      "metadata": {
        "id": "Jy3CMgihwrNP"
      },
      "source": [
        "##  Print the correlation matrix "
      ]
    },
    {
      "cell_type": "code",
      "execution_count": 55,
      "id": "7e1c15d4",
      "metadata": {
        "colab": {
          "base_uri": "https://localhost:8080/",
          "height": 175
        },
        "id": "7e1c15d4",
        "outputId": "49b9402b-72ce-4f0b-b5d1-42667f012060"
      },
      "outputs": [
        {
          "data": {
            "text/html": [
              "<div>\n",
              "<style scoped>\n",
              "    .dataframe tbody tr th:only-of-type {\n",
              "        vertical-align: middle;\n",
              "    }\n",
              "\n",
              "    .dataframe tbody tr th {\n",
              "        vertical-align: top;\n",
              "    }\n",
              "\n",
              "    .dataframe thead th {\n",
              "        text-align: right;\n",
              "    }\n",
              "</style>\n",
              "<table border=\"1\" class=\"dataframe\">\n",
              "  <thead>\n",
              "    <tr style=\"text-align: right;\">\n",
              "      <th></th>\n",
              "      <th>value</th>\n",
              "      <th>year</th>\n",
              "      <th>month</th>\n",
              "      <th>day</th>\n",
              "    </tr>\n",
              "  </thead>\n",
              "  <tbody>\n",
              "    <tr>\n",
              "      <th>value</th>\n",
              "      <td>1.000000</td>\n",
              "      <td>0.597953</td>\n",
              "      <td>-0.025042</td>\n",
              "      <td>-0.005340</td>\n",
              "    </tr>\n",
              "    <tr>\n",
              "      <th>year</th>\n",
              "      <td>0.597953</td>\n",
              "      <td>1.000000</td>\n",
              "      <td>-0.252089</td>\n",
              "      <td>-0.017326</td>\n",
              "    </tr>\n",
              "    <tr>\n",
              "      <th>month</th>\n",
              "      <td>-0.025042</td>\n",
              "      <td>-0.252089</td>\n",
              "      <td>1.000000</td>\n",
              "      <td>0.012605</td>\n",
              "    </tr>\n",
              "    <tr>\n",
              "      <th>day</th>\n",
              "      <td>-0.005340</td>\n",
              "      <td>-0.017326</td>\n",
              "      <td>0.012605</td>\n",
              "      <td>1.000000</td>\n",
              "    </tr>\n",
              "  </tbody>\n",
              "</table>\n",
              "</div>"
            ],
            "text/plain": [
              "          value      year     month       day\n",
              "value  1.000000  0.597953 -0.025042 -0.005340\n",
              "year   0.597953  1.000000 -0.252089 -0.017326\n",
              "month -0.025042 -0.252089  1.000000  0.012605\n",
              "day   -0.005340 -0.017326  0.012605  1.000000"
            ]
          },
          "execution_count": 55,
          "metadata": {},
          "output_type": "execute_result"
        }
      ],
      "source": [
        "ordered_num.corr()"
      ]
    },
    {
      "cell_type": "markdown",
      "id": "oNlaYnlfwvDn",
      "metadata": {
        "id": "oNlaYnlfwvDn"
      },
      "source": [
        "## Plot the heatmap using the correlationn matrix"
      ]
    },
    {
      "cell_type": "code",
      "execution_count": 56,
      "id": "bcc3f2f1",
      "metadata": {
        "colab": {
          "base_uri": "https://localhost:8080/",
          "height": 610
        },
        "id": "bcc3f2f1",
        "outputId": "f3888d3e-a183-4050-9f54-3b42eabee96e"
      },
      "outputs": [
        {
          "data": {
            "image/png": "[encoded data removed]",
            "text/plain": [
              "<Figure size 842.4x595.44 with 2 Axes>"
            ]
          },
          "metadata": {},
          "output_type": "display_data"
        }
      ],
      "source": [
        "sns.set(rc={'figure.figsize':(11.7,8.27)})\n",
        "ax = sns.heatmap(data.corr().round(decimals = 3), annot=True, fmt='')"
      ]
    },
    {
      "cell_type": "markdown",
      "id": "KhfF_JmtwyGE",
      "metadata": {
        "id": "KhfF_JmtwyGE"
      },
      "source": [
        "##  Using pivot_table , average, min, max of ( morality_rate, birth_rate ) for each continent\n",
        "What do you notice ? "
      ]
    },
    {
      "cell_type": "code",
      "execution_count": 59,
      "id": "76c83b08",
      "metadata": {
        "id": "76c83b08"
      },
      "outputs": [
        {
          "data": {
            "text/html": [
              "<div>\n",
              "<style scoped>\n",
              "    .dataframe tbody tr th:only-of-type {\n",
              "        vertical-align: middle;\n",
              "    }\n",
              "\n",
              "    .dataframe tbody tr th {\n",
              "        vertical-align: top;\n",
              "    }\n",
              "\n",
              "    .dataframe thead th {\n",
              "        text-align: right;\n",
              "    }\n",
              "</style>\n",
              "<table border=\"1\" class=\"dataframe\">\n",
              "  <thead>\n",
              "    <tr style=\"text-align: right;\">\n",
              "      <th></th>\n",
              "      <th>Birth rate</th>\n",
              "      <th>Mortality rate</th>\n",
              "    </tr>\n",
              "    <tr>\n",
              "      <th>Continent</th>\n",
              "      <th></th>\n",
              "      <th></th>\n",
              "    </tr>\n",
              "  </thead>\n",
              "  <tbody>\n",
              "    <tr>\n",
              "      <th>Africa</th>\n",
              "      <td>31.354386</td>\n",
              "      <td>8.500000</td>\n",
              "    </tr>\n",
              "    <tr>\n",
              "      <th>Asia</th>\n",
              "      <td>18.131373</td>\n",
              "      <td>6.054902</td>\n",
              "    </tr>\n",
              "    <tr>\n",
              "      <th>Europe</th>\n",
              "      <td>10.381300</td>\n",
              "      <td>10.781825</td>\n",
              "    </tr>\n",
              "    <tr>\n",
              "      <th>North America</th>\n",
              "      <td>11.500000</td>\n",
              "      <td>8.000000</td>\n",
              "    </tr>\n",
              "    <tr>\n",
              "      <th>Oceania</th>\n",
              "      <td>20.730769</td>\n",
              "      <td>6.200000</td>\n",
              "    </tr>\n",
              "    <tr>\n",
              "      <th>South America</th>\n",
              "      <td>16.497368</td>\n",
              "      <td>6.884211</td>\n",
              "    </tr>\n",
              "  </tbody>\n",
              "</table>\n",
              "</div>"
            ],
            "text/plain": [
              "               Birth rate  Mortality rate\n",
              "Continent                                \n",
              "Africa          31.354386        8.500000\n",
              "Asia            18.131373        6.054902\n",
              "Europe          10.381300       10.781825\n",
              "North America   11.500000        8.000000\n",
              "Oceania         20.730769        6.200000\n",
              "South America   16.497368        6.884211"
            ]
          },
          "execution_count": 59,
          "metadata": {},
          "output_type": "execute_result"
        }
      ],
      "source": [
        "pd.pivot_table(data, index=['Continent'], values=['Mortality rate','Birth rate'], aggfunc=np.mean)"
      ]
    },
    {
      "cell_type": "code",
      "execution_count": 60,
      "id": "81206578",
      "metadata": {
        "id": "81206578"
      },
      "outputs": [
        {
          "data": {
            "text/html": [
              "<div>\n",
              "<style scoped>\n",
              "    .dataframe tbody tr th:only-of-type {\n",
              "        vertical-align: middle;\n",
              "    }\n",
              "\n",
              "    .dataframe tbody tr th {\n",
              "        vertical-align: top;\n",
              "    }\n",
              "\n",
              "    .dataframe thead th {\n",
              "        text-align: right;\n",
              "    }\n",
              "</style>\n",
              "<table border=\"1\" class=\"dataframe\">\n",
              "  <thead>\n",
              "    <tr style=\"text-align: right;\">\n",
              "      <th></th>\n",
              "      <th>Birth rate</th>\n",
              "      <th>Mortality rate</th>\n",
              "    </tr>\n",
              "    <tr>\n",
              "      <th>Continent</th>\n",
              "      <th></th>\n",
              "      <th></th>\n",
              "    </tr>\n",
              "  </thead>\n",
              "  <tbody>\n",
              "    <tr>\n",
              "      <th>Africa</th>\n",
              "      <td>10.8</td>\n",
              "      <td>2.400</td>\n",
              "    </tr>\n",
              "    <tr>\n",
              "      <th>Asia</th>\n",
              "      <td>7.5</td>\n",
              "      <td>1.600</td>\n",
              "    </tr>\n",
              "    <tr>\n",
              "      <th>Europe</th>\n",
              "      <td>7.5</td>\n",
              "      <td>6.467</td>\n",
              "    </tr>\n",
              "    <tr>\n",
              "      <th>North America</th>\n",
              "      <td>10.5</td>\n",
              "      <td>7.500</td>\n",
              "    </tr>\n",
              "    <tr>\n",
              "      <th>Oceania</th>\n",
              "      <td>12.8</td>\n",
              "      <td>4.700</td>\n",
              "    </tr>\n",
              "    <tr>\n",
              "      <th>South America</th>\n",
              "      <td>9.6</td>\n",
              "      <td>3.000</td>\n",
              "    </tr>\n",
              "  </tbody>\n",
              "</table>\n",
              "</div>"
            ],
            "text/plain": [
              "               Birth rate  Mortality rate\n",
              "Continent                                \n",
              "Africa               10.8           2.400\n",
              "Asia                  7.5           1.600\n",
              "Europe                7.5           6.467\n",
              "North America        10.5           7.500\n",
              "Oceania              12.8           4.700\n",
              "South America         9.6           3.000"
            ]
          },
          "execution_count": 60,
          "metadata": {},
          "output_type": "execute_result"
        }
      ],
      "source": [
        "pd.pivot_table(data, index=['Continent'], values=['Mortality rate','Birth rate'], aggfunc=np.min)"
      ]
    },
    {
      "cell_type": "code",
      "execution_count": 61,
      "id": "c83d4844",
      "metadata": {},
      "outputs": [
        {
          "data": {
            "text/html": [
              "<div>\n",
              "<style scoped>\n",
              "    .dataframe tbody tr th:only-of-type {\n",
              "        vertical-align: middle;\n",
              "    }\n",
              "\n",
              "    .dataframe tbody tr th {\n",
              "        vertical-align: top;\n",
              "    }\n",
              "\n",
              "    .dataframe thead th {\n",
              "        text-align: right;\n",
              "    }\n",
              "</style>\n",
              "<table border=\"1\" class=\"dataframe\">\n",
              "  <thead>\n",
              "    <tr style=\"text-align: right;\">\n",
              "      <th></th>\n",
              "      <th>Birth rate</th>\n",
              "      <th>Mortality rate</th>\n",
              "    </tr>\n",
              "    <tr>\n",
              "      <th>Continent</th>\n",
              "      <th></th>\n",
              "      <th></th>\n",
              "    </tr>\n",
              "  </thead>\n",
              "  <tbody>\n",
              "    <tr>\n",
              "      <th>Africa</th>\n",
              "      <td>48.4</td>\n",
              "      <td>14.800</td>\n",
              "    </tr>\n",
              "    <tr>\n",
              "      <th>Asia</th>\n",
              "      <td>35.0</td>\n",
              "      <td>11.500</td>\n",
              "    </tr>\n",
              "    <tr>\n",
              "      <th>Europe</th>\n",
              "      <td>13.8</td>\n",
              "      <td>16.187</td>\n",
              "    </tr>\n",
              "    <tr>\n",
              "      <th>North America</th>\n",
              "      <td>12.5</td>\n",
              "      <td>8.500</td>\n",
              "    </tr>\n",
              "    <tr>\n",
              "      <th>Oceania</th>\n",
              "      <td>27.7</td>\n",
              "      <td>7.600</td>\n",
              "    </tr>\n",
              "    <tr>\n",
              "      <th>South America</th>\n",
              "      <td>25.6</td>\n",
              "      <td>10.900</td>\n",
              "    </tr>\n",
              "  </tbody>\n",
              "</table>\n",
              "</div>"
            ],
            "text/plain": [
              "               Birth rate  Mortality rate\n",
              "Continent                                \n",
              "Africa               48.4          14.800\n",
              "Asia                 35.0          11.500\n",
              "Europe               13.8          16.187\n",
              "North America        12.5           8.500\n",
              "Oceania              27.7           7.600\n",
              "South America        25.6          10.900"
            ]
          },
          "execution_count": 61,
          "metadata": {},
          "output_type": "execute_result"
        }
      ],
      "source": [
        "pd.pivot_table(data, index=['Continent'], values=['Mortality rate','Birth rate'], aggfunc=np.max)"
      ]
    }
  ],
  "metadata": {
    "colab": {
      "collapsed_sections": [],
      "name": "Copy of Data Viz Exersices",
      "provenance": []
    },
    "kernelspec": {
      "display_name": "Python 3.10.5 64-bit",
      "language": "python",
      "name": "python3"
    },
    "language_info": {
      "codemirror_mode": {
        "name": "ipython",
        "version": 3
      },
      "file_extension": ".py",
      "mimetype": "text/x-python",
      "name": "python",
      "nbconvert_exporter": "python",
      "pygments_lexer": "ipython3",
      "version": "3.10.5"
    },
    "vscode": {
      "interpreter": {
        "hash": "67e0cbc25fa4f5baaacba1240f401bc655b640f8e15cfc935dfee2e63491bdf4"
      }
    }
  },
  "nbformat": 4,
  "nbformat_minor": 5
}
